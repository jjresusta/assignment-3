{
  "nbformat": 4,
  "nbformat_minor": 0,
  "metadata": {
    "colab": {
      "name": "Copia de Session_3_Regularization_and_Poly_regression_EXERCISE.ipynb",
      "provenance": [],
      "toc_visible": true
    },
    "kernelspec": {
      "name": "python3",
      "display_name": "Python 3"
    }
  },
  "cells": [
    {
      "cell_type": "markdown",
      "metadata": {
        "id": "T_U6YCp9QD33"
      },
      "source": [
        "\n",
        "![BTS](https://github.com/vfp1/bts-dsf-2020/raw/main/Logo-BTS.jpg)\n",
        "\n",
        "# Session 3: Logistic Regression EXERCISE\n",
        "\n",
        "### Victor F. Pajuelo Madrigal <victor.pajuelo@bts.tech> - Classical Data Analysis (2020-12-21)\n",
        "\n",
        "Open this notebook in Google Colaboratory: [![Open in Colab](https://colab.research.google.com/assets/colab-badge.svg)](https://colab.research.google.com/github/vfp1/bts-cda-2020/blob/main/Session_3/Session_3_Regularization_and_Poly_regression_EXERCISE.ipynb)\n",
        "\n",
        "**Resources:**\n",
        "* Auréliene Géron, Hands On ML with SKlearn, Keras and TF"
      ]
    },
    {
      "cell_type": "markdown",
      "metadata": {
        "id": "47cNdF6xP5eF"
      },
      "source": [
        "# Regression with regularization"
      ]
    },
    {
      "cell_type": "markdown",
      "metadata": {
        "id": "I-2OcibZP5eH"
      },
      "source": [
        "#### We will using the Boston Housing Dataset available in sklearn and we will extend it with  5 additional features of random noise to test each algorithm’s ability to filter out irrelevant information:\n",
        "\n",
        "- **Examine the results of applying Linear Regression, Lasso Regression, Ridge Regression and Elastic Net on the features scores**\n",
        "- **Try to modify the hyperparameters lambda and describe how it affects the parmeter scores**\n",
        "\n",
        "This is the very same exercise that we did in class, try to go in depth into the tradeoffs of lambda (alpha) and others"
      ]
    },
    {
      "cell_type": "markdown",
      "metadata": {
        "id": "oGLVXZSyP5eH"
      },
      "source": [
        "### Import libraries and dataset from sklearn"
      ]
    },
    {
      "cell_type": "code",
      "metadata": {
        "id": "YfgiMb3fP5eI",
        "colab": {
          "base_uri": "https://localhost:8080/",
          "height": 204
        },
        "outputId": "83cb35c3-903c-4c28-b851-9c78f4d23cd1"
      },
      "source": [
        "import matplotlib.pyplot as plt\n",
        "import numpy as np \n",
        "import pandas as pd\n",
        "import matplotlib\n",
        "matplotlib.rcParams.update({'font.size': 12})\n",
        "from sklearn.datasets import load_boston\n",
        "from sklearn.model_selection import train_test_split\n",
        "from sklearn.linear_model import LinearRegression\n",
        "from sklearn.linear_model import Ridge\n",
        "from sklearn import metrics\n",
        "from sklearn.metrics import mean_squared_error\n",
        "\n",
        "boston=load_boston()\n",
        "boston_df=pd.DataFrame(boston.data,columns=boston.feature_names)\n",
        "\n",
        "boston_df.head()"
      ],
      "execution_count": null,
      "outputs": [
        {
          "output_type": "execute_result",
          "data": {
            "text/html": [
              "<div>\n",
              "<style scoped>\n",
              "    .dataframe tbody tr th:only-of-type {\n",
              "        vertical-align: middle;\n",
              "    }\n",
              "\n",
              "    .dataframe tbody tr th {\n",
              "        vertical-align: top;\n",
              "    }\n",
              "\n",
              "    .dataframe thead th {\n",
              "        text-align: right;\n",
              "    }\n",
              "</style>\n",
              "<table border=\"1\" class=\"dataframe\">\n",
              "  <thead>\n",
              "    <tr style=\"text-align: right;\">\n",
              "      <th></th>\n",
              "      <th>CRIM</th>\n",
              "      <th>ZN</th>\n",
              "      <th>INDUS</th>\n",
              "      <th>CHAS</th>\n",
              "      <th>NOX</th>\n",
              "      <th>RM</th>\n",
              "      <th>AGE</th>\n",
              "      <th>DIS</th>\n",
              "      <th>RAD</th>\n",
              "      <th>TAX</th>\n",
              "      <th>PTRATIO</th>\n",
              "      <th>B</th>\n",
              "      <th>LSTAT</th>\n",
              "    </tr>\n",
              "  </thead>\n",
              "  <tbody>\n",
              "    <tr>\n",
              "      <th>0</th>\n",
              "      <td>0.00632</td>\n",
              "      <td>18.0</td>\n",
              "      <td>2.31</td>\n",
              "      <td>0.0</td>\n",
              "      <td>0.538</td>\n",
              "      <td>6.575</td>\n",
              "      <td>65.2</td>\n",
              "      <td>4.0900</td>\n",
              "      <td>1.0</td>\n",
              "      <td>296.0</td>\n",
              "      <td>15.3</td>\n",
              "      <td>396.90</td>\n",
              "      <td>4.98</td>\n",
              "    </tr>\n",
              "    <tr>\n",
              "      <th>1</th>\n",
              "      <td>0.02731</td>\n",
              "      <td>0.0</td>\n",
              "      <td>7.07</td>\n",
              "      <td>0.0</td>\n",
              "      <td>0.469</td>\n",
              "      <td>6.421</td>\n",
              "      <td>78.9</td>\n",
              "      <td>4.9671</td>\n",
              "      <td>2.0</td>\n",
              "      <td>242.0</td>\n",
              "      <td>17.8</td>\n",
              "      <td>396.90</td>\n",
              "      <td>9.14</td>\n",
              "    </tr>\n",
              "    <tr>\n",
              "      <th>2</th>\n",
              "      <td>0.02729</td>\n",
              "      <td>0.0</td>\n",
              "      <td>7.07</td>\n",
              "      <td>0.0</td>\n",
              "      <td>0.469</td>\n",
              "      <td>7.185</td>\n",
              "      <td>61.1</td>\n",
              "      <td>4.9671</td>\n",
              "      <td>2.0</td>\n",
              "      <td>242.0</td>\n",
              "      <td>17.8</td>\n",
              "      <td>392.83</td>\n",
              "      <td>4.03</td>\n",
              "    </tr>\n",
              "    <tr>\n",
              "      <th>3</th>\n",
              "      <td>0.03237</td>\n",
              "      <td>0.0</td>\n",
              "      <td>2.18</td>\n",
              "      <td>0.0</td>\n",
              "      <td>0.458</td>\n",
              "      <td>6.998</td>\n",
              "      <td>45.8</td>\n",
              "      <td>6.0622</td>\n",
              "      <td>3.0</td>\n",
              "      <td>222.0</td>\n",
              "      <td>18.7</td>\n",
              "      <td>394.63</td>\n",
              "      <td>2.94</td>\n",
              "    </tr>\n",
              "    <tr>\n",
              "      <th>4</th>\n",
              "      <td>0.06905</td>\n",
              "      <td>0.0</td>\n",
              "      <td>2.18</td>\n",
              "      <td>0.0</td>\n",
              "      <td>0.458</td>\n",
              "      <td>7.147</td>\n",
              "      <td>54.2</td>\n",
              "      <td>6.0622</td>\n",
              "      <td>3.0</td>\n",
              "      <td>222.0</td>\n",
              "      <td>18.7</td>\n",
              "      <td>396.90</td>\n",
              "      <td>5.33</td>\n",
              "    </tr>\n",
              "  </tbody>\n",
              "</table>\n",
              "</div>"
            ],
            "text/plain": [
              "      CRIM    ZN  INDUS  CHAS    NOX  ...  RAD    TAX  PTRATIO       B  LSTAT\n",
              "0  0.00632  18.0   2.31   0.0  0.538  ...  1.0  296.0     15.3  396.90   4.98\n",
              "1  0.02731   0.0   7.07   0.0  0.469  ...  2.0  242.0     17.8  396.90   9.14\n",
              "2  0.02729   0.0   7.07   0.0  0.469  ...  2.0  242.0     17.8  392.83   4.03\n",
              "3  0.03237   0.0   2.18   0.0  0.458  ...  3.0  222.0     18.7  394.63   2.94\n",
              "4  0.06905   0.0   2.18   0.0  0.458  ...  3.0  222.0     18.7  396.90   5.33\n",
              "\n",
              "[5 rows x 13 columns]"
            ]
          },
          "metadata": {
            "tags": []
          },
          "execution_count": 41
        }
      ]
    },
    {
      "cell_type": "code",
      "metadata": {
        "id": "kAFzeugPP5eJ"
      },
      "source": [
        ""
      ],
      "execution_count": null,
      "outputs": []
    },
    {
      "cell_type": "markdown",
      "metadata": {
        "id": "W7fJX1LuP5eK"
      },
      "source": [
        "### Add Noise to original dataset"
      ]
    },
    {
      "cell_type": "code",
      "metadata": {
        "id": "kOCkhsAZP5eK"
      },
      "source": [
        "n_houses = boston_df.shape[0]\n",
        "rand_noise = np.random.rand(n_houses, 5)\n",
        "\n",
        "rand_noise_df = pd.DataFrame(data=rand_noise, columns=['Noise_1', 'Noise_2', 'Noise_3', 'Noise_4', 'Noise_5'])\n",
        "X = pd.concat([boston_df, rand_noise_df], axis=1)\n",
        "y = boston['target']\n"
      ],
      "execution_count": null,
      "outputs": []
    },
    {
      "cell_type": "code",
      "metadata": {
        "id": "cG1PjrYhP5eK",
        "colab": {
          "base_uri": "https://localhost:8080/",
          "height": 204
        },
        "outputId": "9fdf959b-0e5c-47ea-df48-10732fe0cad0"
      },
      "source": [
        "X.head()"
      ],
      "execution_count": null,
      "outputs": [
        {
          "output_type": "execute_result",
          "data": {
            "text/html": [
              "<div>\n",
              "<style scoped>\n",
              "    .dataframe tbody tr th:only-of-type {\n",
              "        vertical-align: middle;\n",
              "    }\n",
              "\n",
              "    .dataframe tbody tr th {\n",
              "        vertical-align: top;\n",
              "    }\n",
              "\n",
              "    .dataframe thead th {\n",
              "        text-align: right;\n",
              "    }\n",
              "</style>\n",
              "<table border=\"1\" class=\"dataframe\">\n",
              "  <thead>\n",
              "    <tr style=\"text-align: right;\">\n",
              "      <th></th>\n",
              "      <th>CRIM</th>\n",
              "      <th>ZN</th>\n",
              "      <th>INDUS</th>\n",
              "      <th>CHAS</th>\n",
              "      <th>NOX</th>\n",
              "      <th>RM</th>\n",
              "      <th>AGE</th>\n",
              "      <th>DIS</th>\n",
              "      <th>RAD</th>\n",
              "      <th>TAX</th>\n",
              "      <th>PTRATIO</th>\n",
              "      <th>B</th>\n",
              "      <th>LSTAT</th>\n",
              "      <th>Noise_1</th>\n",
              "      <th>Noise_2</th>\n",
              "      <th>Noise_3</th>\n",
              "      <th>Noise_4</th>\n",
              "      <th>Noise_5</th>\n",
              "    </tr>\n",
              "  </thead>\n",
              "  <tbody>\n",
              "    <tr>\n",
              "      <th>0</th>\n",
              "      <td>0.00632</td>\n",
              "      <td>18.0</td>\n",
              "      <td>2.31</td>\n",
              "      <td>0.0</td>\n",
              "      <td>0.538</td>\n",
              "      <td>6.575</td>\n",
              "      <td>65.2</td>\n",
              "      <td>4.0900</td>\n",
              "      <td>1.0</td>\n",
              "      <td>296.0</td>\n",
              "      <td>15.3</td>\n",
              "      <td>396.90</td>\n",
              "      <td>4.98</td>\n",
              "      <td>0.848298</td>\n",
              "      <td>0.884164</td>\n",
              "      <td>0.801076</td>\n",
              "      <td>0.223701</td>\n",
              "      <td>0.547198</td>\n",
              "    </tr>\n",
              "    <tr>\n",
              "      <th>1</th>\n",
              "      <td>0.02731</td>\n",
              "      <td>0.0</td>\n",
              "      <td>7.07</td>\n",
              "      <td>0.0</td>\n",
              "      <td>0.469</td>\n",
              "      <td>6.421</td>\n",
              "      <td>78.9</td>\n",
              "      <td>4.9671</td>\n",
              "      <td>2.0</td>\n",
              "      <td>242.0</td>\n",
              "      <td>17.8</td>\n",
              "      <td>396.90</td>\n",
              "      <td>9.14</td>\n",
              "      <td>0.747614</td>\n",
              "      <td>0.176992</td>\n",
              "      <td>0.175466</td>\n",
              "      <td>0.409053</td>\n",
              "      <td>0.099443</td>\n",
              "    </tr>\n",
              "    <tr>\n",
              "      <th>2</th>\n",
              "      <td>0.02729</td>\n",
              "      <td>0.0</td>\n",
              "      <td>7.07</td>\n",
              "      <td>0.0</td>\n",
              "      <td>0.469</td>\n",
              "      <td>7.185</td>\n",
              "      <td>61.1</td>\n",
              "      <td>4.9671</td>\n",
              "      <td>2.0</td>\n",
              "      <td>242.0</td>\n",
              "      <td>17.8</td>\n",
              "      <td>392.83</td>\n",
              "      <td>4.03</td>\n",
              "      <td>0.178055</td>\n",
              "      <td>0.624940</td>\n",
              "      <td>0.869001</td>\n",
              "      <td>0.182073</td>\n",
              "      <td>0.006127</td>\n",
              "    </tr>\n",
              "    <tr>\n",
              "      <th>3</th>\n",
              "      <td>0.03237</td>\n",
              "      <td>0.0</td>\n",
              "      <td>2.18</td>\n",
              "      <td>0.0</td>\n",
              "      <td>0.458</td>\n",
              "      <td>6.998</td>\n",
              "      <td>45.8</td>\n",
              "      <td>6.0622</td>\n",
              "      <td>3.0</td>\n",
              "      <td>222.0</td>\n",
              "      <td>18.7</td>\n",
              "      <td>394.63</td>\n",
              "      <td>2.94</td>\n",
              "      <td>0.608768</td>\n",
              "      <td>0.694978</td>\n",
              "      <td>0.329941</td>\n",
              "      <td>0.300579</td>\n",
              "      <td>0.030502</td>\n",
              "    </tr>\n",
              "    <tr>\n",
              "      <th>4</th>\n",
              "      <td>0.06905</td>\n",
              "      <td>0.0</td>\n",
              "      <td>2.18</td>\n",
              "      <td>0.0</td>\n",
              "      <td>0.458</td>\n",
              "      <td>7.147</td>\n",
              "      <td>54.2</td>\n",
              "      <td>6.0622</td>\n",
              "      <td>3.0</td>\n",
              "      <td>222.0</td>\n",
              "      <td>18.7</td>\n",
              "      <td>396.90</td>\n",
              "      <td>5.33</td>\n",
              "      <td>0.714172</td>\n",
              "      <td>0.099996</td>\n",
              "      <td>0.479925</td>\n",
              "      <td>0.681225</td>\n",
              "      <td>0.632051</td>\n",
              "    </tr>\n",
              "  </tbody>\n",
              "</table>\n",
              "</div>"
            ],
            "text/plain": [
              "      CRIM    ZN  INDUS  CHAS  ...   Noise_2   Noise_3   Noise_4   Noise_5\n",
              "0  0.00632  18.0   2.31   0.0  ...  0.884164  0.801076  0.223701  0.547198\n",
              "1  0.02731   0.0   7.07   0.0  ...  0.176992  0.175466  0.409053  0.099443\n",
              "2  0.02729   0.0   7.07   0.0  ...  0.624940  0.869001  0.182073  0.006127\n",
              "3  0.03237   0.0   2.18   0.0  ...  0.694978  0.329941  0.300579  0.030502\n",
              "4  0.06905   0.0   2.18   0.0  ...  0.099996  0.479925  0.681225  0.632051\n",
              "\n",
              "[5 rows x 18 columns]"
            ]
          },
          "metadata": {
            "tags": []
          },
          "execution_count": 43
        }
      ]
    },
    {
      "cell_type": "code",
      "metadata": {
        "id": "wfKjAvf4P5eL",
        "colab": {
          "base_uri": "https://localhost:8080/"
        },
        "outputId": "9501089a-7119-48fe-8370-9d653d36cc38"
      },
      "source": [
        "y[0:5]"
      ],
      "execution_count": null,
      "outputs": [
        {
          "output_type": "execute_result",
          "data": {
            "text/plain": [
              "array([24. , 21.6, 34.7, 33.4, 36.2])"
            ]
          },
          "metadata": {
            "tags": []
          },
          "execution_count": 44
        }
      ]
    },
    {
      "cell_type": "markdown",
      "metadata": {
        "id": "hx6KUx1kP5eL"
      },
      "source": [
        "### Implement classical linear regression, Lasso, Ridge and ElasticNet (use the default parameter of sklearn) and describe how the scores of the features change"
      ]
    },
    {
      "cell_type": "code",
      "metadata": {
        "id": "YWVwV1sHP5eM"
      },
      "source": [
        "from sklearn.linear_model import LinearRegression, Lasso, Ridge, ElasticNet\n",
        "from sklearn import linear_model\n",
        "linear = LinearRegression()\n",
        "lasso = linear_model.Lasso()\n",
        "ridge = linear_model.Ridge()\n",
        "elastic = linear_model.ElasticNet()\n",
        "models = [(linear, 'Linear Regression'),\n",
        "           (lasso, 'Lasso'),\n",
        "           (ridge, \"Ridge Regression\"),\n",
        "           (elastic, \"Elastic Net\")]"
      ],
      "execution_count": null,
      "outputs": []
    },
    {
      "cell_type": "markdown",
      "metadata": {
        "id": "Vp3_wR5CP5eM"
      },
      "source": [
        "##### NORMALIZE DATA USING THE ```StandardScaler``` PROVIDED BY sklearn"
      ]
    },
    {
      "cell_type": "code",
      "metadata": {
        "id": "Ftfk1EaAP5eM"
      },
      "source": [
        "from sklearn.preprocessing import StandardScaler\n",
        "\n",
        "boston_ss = StandardScaler()\n",
        "X_scaled = boston_ss.fit_transform(X=X)\n",
        "\n",
        "X_train, X_test, y_train, y_test = train_test_split(X_scaled, y, test_size=0.25, random_state=235)"
      ],
      "execution_count": null,
      "outputs": []
    },
    {
      "cell_type": "code",
      "metadata": {
        "id": "TT98zyGHP5eN",
        "colab": {
          "base_uri": "https://localhost:8080/",
          "height": 1000
        },
        "outputId": "7b45a460-62c7-43b8-8551-8e453aeba015"
      },
      "source": [
        "df = pd.DataFrame()\n",
        "df['Feature Name'] = X.columns\n",
        "for model in models:\n",
        "    model[0].fit(X_train, y_train)\n",
        "    pd.Series(model[0].coef_, \n",
        "              index=X.columns).plot(kind='barh')\n",
        "    plt.title(model[1])\n",
        "    plt.xlabel('Coefficient Value')\n",
        "    plt.ylabel('Feature Name')\n",
        "    plt.show()\n",
        "    # Create a column name for that reflects the name of the model\n",
        "    column_name = model[1]\n",
        "\n",
        "    # Create a column of coefficient values\n",
        "    df[column_name] = model[0].coef_"
      ],
      "execution_count": null,
      "outputs": [
        {
          "output_type": "display_data",
          "data": {
            "image/png": "[encoded data removed]",
            "text/plain": [
              "<Figure size 432x288 with 1 Axes>"
            ]
          },
          "metadata": {
            "tags": [],
            "needs_background": "light"
          }
        },
        {
          "output_type": "display_data",
          "data": {
            "image/png": "[encoded data removed]",
            "text/plain": [
              "<Figure size 432x288 with 1 Axes>"
            ]
          },
          "metadata": {
            "tags": [],
            "needs_background": "light"
          }
        },
        {
          "output_type": "display_data",
          "data": {
            "image/png": "[encoded data removed]",
            "text/plain": [
              "<Figure size 432x288 with 1 Axes>"
            ]
          },
          "metadata": {
            "tags": [],
            "needs_background": "light"
          }
        },
        {
          "output_type": "display_data",
          "data": {
            "image/png": "[encoded data removed]",
            "text/plain": [
              "<Figure size 432x288 with 1 Axes>"
            ]
          },
          "metadata": {
            "tags": [],
            "needs_background": "light"
          }
        }
      ]
    },
    {
      "cell_type": "markdown",
      "metadata": {
        "id": "vCaYnamIP5eN"
      },
      "source": [
        "#### Decribe the results"
      ]
    },
    {
      "cell_type": "markdown",
      "metadata": {
        "id": "BJRGjHfBP5eN"
      },
      "source": [
        "- We can see that linear regression assigned non-zero values to all 5 of our noise features, despite none of them having any predictive power. Interestingly, these noise features have coefficients with magnitudes similar to some of the real features in the dataset.\n",
        "- As we hoped, Lasso did a good job of reducing all 5 of our noise features to 0, as well as many of the real features from the dataset. This is indeed a much simpler model than given by linear regression\n",
        "- Ridge Regression makes a similar mistake that unregularized linear regression, assigning coefficient values to our noise features. We also see some features have very small coefficients.\n",
        "- Much like Lasso, Elastic Net makes the coefficients of several features 0. It however does not make as many coefficients 0 as Lasso does."
      ]
    },
    {
      "cell_type": "markdown",
      "metadata": {
        "id": "68pMwN4BP5eO"
      },
      "source": [
        "### Compute the Model Scores"
      ]
    },
    {
      "cell_type": "code",
      "metadata": {
        "id": "1b310Fv7P5eO",
        "colab": {
          "base_uri": "https://localhost:8080/"
        },
        "outputId": "f77ac596-7283-4d43-be8c-857edad10cc4"
      },
      "source": [
        "print(\"linear regression mean squared error:\",mean_squared_error(y_test, linear.predict(X_test), squared=True))\r\n",
        "print(\"lasso regression mean squared error:\",mean_squared_error(y_test, lasso.predict(X_test), squared=True))\r\n",
        "print(\"ridge regression mean squared error:\",mean_squared_error(y_test, ridge.predict(X_test), squared=True))\r\n",
        "print(\"elastic net regression mean squared error:\",mean_squared_error(y_test, elastic.predict(X_test), squared=True))\r\n",
        "\r\n"
      ],
      "execution_count": null,
      "outputs": [
        {
          "output_type": "stream",
          "text": [
            "linear regression mean squared error: 23.904014947040046\n",
            "lasso regression mean squared error: 24.90961562396693\n",
            "ridge regression mean squared error: 23.89247465637945\n",
            "elastic net regression mean squared error: 24.62601536775952\n"
          ],
          "name": "stdout"
        }
      ]
    },
    {
      "cell_type": "markdown",
      "metadata": {
        "id": "komlDuMgP5eO"
      },
      "source": [
        "This might seem counter-intuitive, but it is important to remember the ridge regression model traded some variance for bias, which ultimately lead to an overall smaller error. The Lasso and Elastic Net models traded a significant amount of variance for bias, and we see that our error has increased.\n",
        "Interestingly, Lasso and Elastic Net had a higher MSE than Linear Regression. But does that mean that these models are unequivocally worse? I would argue not, as the Lasso and Elastic Net models also performed feature selection, which gives us better interpretability of the models. Coefficients are interpreted as the change in dependent variable with a one unit increase in predictor value, with all other predictors held constant. In the case of complex models, the assumption of holding all other predictors constant cannot reasonably be met."
      ]
    },
    {
      "cell_type": "markdown",
      "metadata": {
        "id": "uGEyFZxRP5eP"
      },
      "source": [
        "### Alpha parameter:  Apply Lasso with different values of alpha and describe how the parameters scores change\n",
        "\n",
        "\n",
        "- Complete the function and apply it to the following values: [0, .0001, .5, 10]\n",
        "- Describe the results"
      ]
    },
    {
      "cell_type": "code",
      "metadata": {
        "id": "3d3m1027P5eP"
      },
      "source": [
        "names = names = X.columns\n",
        "\n",
        "# Create a function called lasso,\n",
        "def lasso(alphas):\n",
        "    '''\n",
        "    Takes in a list of alphas. Outputs a dataframe containing the coefficients of lasso regressions from each alpha.\n",
        "    '''\n",
        "    # Create an empty data frame\n",
        "    df = pd.DataFrame()\n",
        "    \n",
        "    # Create a column of feature names\n",
        "    df['Feature Name'] = names\n",
        "    \n",
        "    # For each alpha value in the list of alpha values,\n",
        "    for alpha in alphas:\n",
        "        # Create a lasso regression with that alpha value,\n",
        "\n",
        "        # ********************************************************\n",
        "        lasso = linear_model.Lasso(alpha=alpha)\n",
        "        \n",
        "        # Fit the lasso regression\n",
        "        lasso.fit(X_scaled, y)\n",
        "        \n",
        "        # Create a column name for that alpha value\n",
        "        column_name = 'Alpha = %f' % alpha\n",
        "\n",
        "        # Create a column of coefficient values\n",
        "        df[column_name] = lasso.coef_\n",
        "        \n",
        "    # Return the dataframe  \n",
        "        \n",
        "    return df"
      ],
      "execution_count": null,
      "outputs": []
    },
    {
      "cell_type": "code",
      "metadata": {
        "id": "BJPHSvw9P5eQ",
        "colab": {
          "base_uri": "https://localhost:8080/",
          "height": 712
        },
        "outputId": "6a22b454-a457-4e80-b013-0e068f55da9f"
      },
      "source": [
        "lasso([0, .0001, .5, 10])"
      ],
      "execution_count": null,
      "outputs": [
        {
          "output_type": "stream",
          "text": [
            "/usr/local/lib/python3.6/dist-packages/ipykernel_launcher.py:22: UserWarning: With alpha=0, this algorithm does not converge well. You are advised to use the LinearRegression estimator\n",
            "/usr/local/lib/python3.6/dist-packages/sklearn/linear_model/_coordinate_descent.py:476: UserWarning: Coordinate descent with no regularization may lead to unexpected results and is discouraged.\n",
            "  positive)\n",
            "/usr/local/lib/python3.6/dist-packages/sklearn/linear_model/_coordinate_descent.py:476: ConvergenceWarning: Objective did not converge. You might want to increase the number of iterations. Duality gap: 5443.7067402560915, tolerance: 4.2716295415019765\n",
            "  positive)\n"
          ],
          "name": "stderr"
        },
        {
          "output_type": "execute_result",
          "data": {
            "text/html": [
              "<div>\n",
              "<style scoped>\n",
              "    .dataframe tbody tr th:only-of-type {\n",
              "        vertical-align: middle;\n",
              "    }\n",
              "\n",
              "    .dataframe tbody tr th {\n",
              "        vertical-align: top;\n",
              "    }\n",
              "\n",
              "    .dataframe thead th {\n",
              "        text-align: right;\n",
              "    }\n",
              "</style>\n",
              "<table border=\"1\" class=\"dataframe\">\n",
              "  <thead>\n",
              "    <tr style=\"text-align: right;\">\n",
              "      <th></th>\n",
              "      <th>Feature Name</th>\n",
              "      <th>Alpha = 0.000000</th>\n",
              "      <th>Alpha = 0.000100</th>\n",
              "      <th>Alpha = 0.500000</th>\n",
              "      <th>Alpha = 10.000000</th>\n",
              "    </tr>\n",
              "  </thead>\n",
              "  <tbody>\n",
              "    <tr>\n",
              "      <th>0</th>\n",
              "      <td>CRIM</td>\n",
              "      <td>-0.934291</td>\n",
              "      <td>-0.934007</td>\n",
              "      <td>-0.115266</td>\n",
              "      <td>-0.0</td>\n",
              "    </tr>\n",
              "    <tr>\n",
              "      <th>1</th>\n",
              "      <td>ZN</td>\n",
              "      <td>1.099370</td>\n",
              "      <td>1.098879</td>\n",
              "      <td>0.000000</td>\n",
              "      <td>0.0</td>\n",
              "    </tr>\n",
              "    <tr>\n",
              "      <th>2</th>\n",
              "      <td>INDUS</td>\n",
              "      <td>0.187960</td>\n",
              "      <td>0.187005</td>\n",
              "      <td>-0.000000</td>\n",
              "      <td>-0.0</td>\n",
              "    </tr>\n",
              "    <tr>\n",
              "      <th>3</th>\n",
              "      <td>CHAS</td>\n",
              "      <td>0.688480</td>\n",
              "      <td>0.688509</td>\n",
              "      <td>0.397079</td>\n",
              "      <td>0.0</td>\n",
              "    </tr>\n",
              "    <tr>\n",
              "      <th>4</th>\n",
              "      <td>NOX</td>\n",
              "      <td>-2.030390</td>\n",
              "      <td>-2.029551</td>\n",
              "      <td>-0.000000</td>\n",
              "      <td>-0.0</td>\n",
              "    </tr>\n",
              "    <tr>\n",
              "      <th>5</th>\n",
              "      <td>RM</td>\n",
              "      <td>2.722557</td>\n",
              "      <td>2.722713</td>\n",
              "      <td>2.974257</td>\n",
              "      <td>0.0</td>\n",
              "    </tr>\n",
              "    <tr>\n",
              "      <th>6</th>\n",
              "      <td>AGE</td>\n",
              "      <td>0.017474</td>\n",
              "      <td>0.017030</td>\n",
              "      <td>-0.000000</td>\n",
              "      <td>-0.0</td>\n",
              "    </tr>\n",
              "    <tr>\n",
              "      <th>7</th>\n",
              "      <td>DIS</td>\n",
              "      <td>-3.061854</td>\n",
              "      <td>-3.061487</td>\n",
              "      <td>-0.170571</td>\n",
              "      <td>0.0</td>\n",
              "    </tr>\n",
              "    <tr>\n",
              "      <th>8</th>\n",
              "      <td>RAD</td>\n",
              "      <td>2.692069</td>\n",
              "      <td>2.690226</td>\n",
              "      <td>-0.000000</td>\n",
              "      <td>-0.0</td>\n",
              "    </tr>\n",
              "    <tr>\n",
              "      <th>9</th>\n",
              "      <td>TAX</td>\n",
              "      <td>-2.182848</td>\n",
              "      <td>-2.181025</td>\n",
              "      <td>-0.000000</td>\n",
              "      <td>-0.0</td>\n",
              "    </tr>\n",
              "    <tr>\n",
              "      <th>10</th>\n",
              "      <td>PTRATIO</td>\n",
              "      <td>-2.027875</td>\n",
              "      <td>-2.027647</td>\n",
              "      <td>-1.598448</td>\n",
              "      <td>-0.0</td>\n",
              "    </tr>\n",
              "    <tr>\n",
              "      <th>11</th>\n",
              "      <td>B</td>\n",
              "      <td>0.839169</td>\n",
              "      <td>0.839091</td>\n",
              "      <td>0.543137</td>\n",
              "      <td>0.0</td>\n",
              "    </tr>\n",
              "    <tr>\n",
              "      <th>12</th>\n",
              "      <td>LSTAT</td>\n",
              "      <td>-3.736542</td>\n",
              "      <td>-3.736336</td>\n",
              "      <td>-3.666145</td>\n",
              "      <td>-0.0</td>\n",
              "    </tr>\n",
              "    <tr>\n",
              "      <th>13</th>\n",
              "      <td>Noise_1</td>\n",
              "      <td>-0.108605</td>\n",
              "      <td>-0.108521</td>\n",
              "      <td>0.000000</td>\n",
              "      <td>0.0</td>\n",
              "    </tr>\n",
              "    <tr>\n",
              "      <th>14</th>\n",
              "      <td>Noise_2</td>\n",
              "      <td>0.256369</td>\n",
              "      <td>0.256277</td>\n",
              "      <td>0.000000</td>\n",
              "      <td>0.0</td>\n",
              "    </tr>\n",
              "    <tr>\n",
              "      <th>15</th>\n",
              "      <td>Noise_3</td>\n",
              "      <td>-0.240009</td>\n",
              "      <td>-0.239884</td>\n",
              "      <td>-0.000000</td>\n",
              "      <td>-0.0</td>\n",
              "    </tr>\n",
              "    <tr>\n",
              "      <th>16</th>\n",
              "      <td>Noise_4</td>\n",
              "      <td>0.377309</td>\n",
              "      <td>0.377189</td>\n",
              "      <td>0.000000</td>\n",
              "      <td>-0.0</td>\n",
              "    </tr>\n",
              "    <tr>\n",
              "      <th>17</th>\n",
              "      <td>Noise_5</td>\n",
              "      <td>-0.267670</td>\n",
              "      <td>-0.267592</td>\n",
              "      <td>-0.000000</td>\n",
              "      <td>-0.0</td>\n",
              "    </tr>\n",
              "  </tbody>\n",
              "</table>\n",
              "</div>"
            ],
            "text/plain": [
              "   Feature Name  Alpha = 0.000000  ...  Alpha = 0.500000  Alpha = 10.000000\n",
              "0          CRIM         -0.934291  ...         -0.115266               -0.0\n",
              "1            ZN          1.099370  ...          0.000000                0.0\n",
              "2         INDUS          0.187960  ...         -0.000000               -0.0\n",
              "3          CHAS          0.688480  ...          0.397079                0.0\n",
              "4           NOX         -2.030390  ...         -0.000000               -0.0\n",
              "5            RM          2.722557  ...          2.974257                0.0\n",
              "6           AGE          0.017474  ...         -0.000000               -0.0\n",
              "7           DIS         -3.061854  ...         -0.170571                0.0\n",
              "8           RAD          2.692069  ...         -0.000000               -0.0\n",
              "9           TAX         -2.182848  ...         -0.000000               -0.0\n",
              "10      PTRATIO         -2.027875  ...         -1.598448               -0.0\n",
              "11            B          0.839169  ...          0.543137                0.0\n",
              "12        LSTAT         -3.736542  ...         -3.666145               -0.0\n",
              "13      Noise_1         -0.108605  ...          0.000000                0.0\n",
              "14      Noise_2          0.256369  ...          0.000000                0.0\n",
              "15      Noise_3         -0.240009  ...         -0.000000               -0.0\n",
              "16      Noise_4          0.377309  ...          0.000000               -0.0\n",
              "17      Noise_5         -0.267670  ...         -0.000000               -0.0\n",
              "\n",
              "[18 rows x 5 columns]"
            ]
          },
          "metadata": {
            "tags": []
          },
          "execution_count": 63
        }
      ]
    },
    {
      "cell_type": "markdown",
      "metadata": {
        "id": "f9mjD2LBP5eQ"
      },
      "source": [
        "#### Describe the above results\r\n",
        "\r\n",
        "#### As we can see the bigger the alpha the bigger the penalty on the noise features at a high alpha they have no effect on y.\r\n",
        "\r\n"
      ]
    },
    {
      "cell_type": "markdown",
      "metadata": {
        "id": "D3dtgTMjP5eR"
      },
      "source": [
        "### Apply Ridge with different values of alpha and describe how the parameters scores change\n",
        "- Complete the function and apply it to the following values: [0, .0001, .5, 10]\n",
        "- Describe the results"
      ]
    },
    {
      "cell_type": "code",
      "metadata": {
        "id": "BycXXJZoP5eR"
      },
      "source": [
        "names = names = X.columns\n",
        "\n",
        "# Create a function called lasso,\n",
        "def ridge(alphas):\n",
        "    '''\n",
        "    Takes in a list of alphas. Outputs a dataframe containing the coefficients of ridge regressions from each alpha.\n",
        "    '''\n",
        "    # Create an empty data frame\n",
        "    df = pd.DataFrame()\n",
        "    \n",
        "    # Create a column of feature names\n",
        "    df['Feature Name'] = names\n",
        "    \n",
        "    # For each alpha value in the list of alpha values,\n",
        "    for alpha in alphas:\n",
        "        # Create a Ridge regression with that alpha value,\n",
        "        \n",
        "        #********************************************************\n",
        "        ridge = linear_model.Ridge(alpha=alpha)\n",
        "        \n",
        "        # Fit the lasso regression\n",
        "        ridge.fit(X_scaled, y)\n",
        "        \n",
        "        # Create a column name for that alpha value\n",
        "        column_name = 'Alpha = %f' % alpha\n",
        "\n",
        "        # Create a column of coefficient values\n",
        "        df[column_name] = ridge.coef_\n",
        "        \n",
        "    # Return the dataframe  \n",
        "    return df"
      ],
      "execution_count": null,
      "outputs": []
    },
    {
      "cell_type": "code",
      "metadata": {
        "id": "3XXSdX92P5eR",
        "colab": {
          "base_uri": "https://localhost:8080/",
          "height": 607
        },
        "outputId": "8da5c873-80bd-4c4d-deb2-5e8419d758ae"
      },
      "source": [
        "ridge([0, .00001, .5, 10])"
      ],
      "execution_count": null,
      "outputs": [
        {
          "output_type": "execute_result",
          "data": {
            "text/html": [
              "<div>\n",
              "<style scoped>\n",
              "    .dataframe tbody tr th:only-of-type {\n",
              "        vertical-align: middle;\n",
              "    }\n",
              "\n",
              "    .dataframe tbody tr th {\n",
              "        vertical-align: top;\n",
              "    }\n",
              "\n",
              "    .dataframe thead th {\n",
              "        text-align: right;\n",
              "    }\n",
              "</style>\n",
              "<table border=\"1\" class=\"dataframe\">\n",
              "  <thead>\n",
              "    <tr style=\"text-align: right;\">\n",
              "      <th></th>\n",
              "      <th>Feature Name</th>\n",
              "      <th>Alpha = 0.000000</th>\n",
              "      <th>Alpha = 0.000010</th>\n",
              "      <th>Alpha = 0.500000</th>\n",
              "      <th>Alpha = 10.000000</th>\n",
              "    </tr>\n",
              "  </thead>\n",
              "  <tbody>\n",
              "    <tr>\n",
              "      <th>0</th>\n",
              "      <td>CRIM</td>\n",
              "      <td>-0.934291</td>\n",
              "      <td>-0.934291</td>\n",
              "      <td>-0.930155</td>\n",
              "      <td>-0.866033</td>\n",
              "    </tr>\n",
              "    <tr>\n",
              "      <th>1</th>\n",
              "      <td>ZN</td>\n",
              "      <td>1.099370</td>\n",
              "      <td>1.099370</td>\n",
              "      <td>1.091648</td>\n",
              "      <td>0.971323</td>\n",
              "    </tr>\n",
              "    <tr>\n",
              "      <th>2</th>\n",
              "      <td>INDUS</td>\n",
              "      <td>0.187960</td>\n",
              "      <td>0.187960</td>\n",
              "      <td>0.175328</td>\n",
              "      <td>-0.004708</td>\n",
              "    </tr>\n",
              "    <tr>\n",
              "      <th>3</th>\n",
              "      <td>CHAS</td>\n",
              "      <td>0.688480</td>\n",
              "      <td>0.688480</td>\n",
              "      <td>0.690251</td>\n",
              "      <td>0.715167</td>\n",
              "    </tr>\n",
              "    <tr>\n",
              "      <th>4</th>\n",
              "      <td>NOX</td>\n",
              "      <td>-2.030390</td>\n",
              "      <td>-2.030390</td>\n",
              "      <td>-2.016654</td>\n",
              "      <td>-1.789995</td>\n",
              "    </tr>\n",
              "    <tr>\n",
              "      <th>5</th>\n",
              "      <td>RM</td>\n",
              "      <td>2.722557</td>\n",
              "      <td>2.722557</td>\n",
              "      <td>2.726750</td>\n",
              "      <td>2.788054</td>\n",
              "    </tr>\n",
              "    <tr>\n",
              "      <th>6</th>\n",
              "      <td>AGE</td>\n",
              "      <td>0.017474</td>\n",
              "      <td>0.017474</td>\n",
              "      <td>0.014302</td>\n",
              "      <td>-0.033775</td>\n",
              "    </tr>\n",
              "    <tr>\n",
              "      <th>7</th>\n",
              "      <td>DIS</td>\n",
              "      <td>-3.061854</td>\n",
              "      <td>-3.061853</td>\n",
              "      <td>-3.048852</td>\n",
              "      <td>-2.820647</td>\n",
              "    </tr>\n",
              "    <tr>\n",
              "      <th>8</th>\n",
              "      <td>RAD</td>\n",
              "      <td>2.692069</td>\n",
              "      <td>2.692068</td>\n",
              "      <td>2.655150</td>\n",
              "      <td>2.112921</td>\n",
              "    </tr>\n",
              "    <tr>\n",
              "      <th>9</th>\n",
              "      <td>TAX</td>\n",
              "      <td>-2.182848</td>\n",
              "      <td>-2.182847</td>\n",
              "      <td>-2.147593</td>\n",
              "      <td>-1.647886</td>\n",
              "    </tr>\n",
              "    <tr>\n",
              "      <th>10</th>\n",
              "      <td>PTRATIO</td>\n",
              "      <td>-2.027875</td>\n",
              "      <td>-2.027875</td>\n",
              "      <td>-2.023852</td>\n",
              "      <td>-1.957231</td>\n",
              "    </tr>\n",
              "    <tr>\n",
              "      <th>11</th>\n",
              "      <td>B</td>\n",
              "      <td>0.839169</td>\n",
              "      <td>0.839169</td>\n",
              "      <td>0.838958</td>\n",
              "      <td>0.834583</td>\n",
              "    </tr>\n",
              "    <tr>\n",
              "      <th>12</th>\n",
              "      <td>LSTAT</td>\n",
              "      <td>-3.736542</td>\n",
              "      <td>-3.736542</td>\n",
              "      <td>-3.730012</td>\n",
              "      <td>-3.616869</td>\n",
              "    </tr>\n",
              "    <tr>\n",
              "      <th>13</th>\n",
              "      <td>Noise_1</td>\n",
              "      <td>-0.108605</td>\n",
              "      <td>-0.108605</td>\n",
              "      <td>-0.108659</td>\n",
              "      <td>-0.106167</td>\n",
              "    </tr>\n",
              "    <tr>\n",
              "      <th>14</th>\n",
              "      <td>Noise_2</td>\n",
              "      <td>0.256369</td>\n",
              "      <td>0.256369</td>\n",
              "      <td>0.256017</td>\n",
              "      <td>0.250587</td>\n",
              "    </tr>\n",
              "    <tr>\n",
              "      <th>15</th>\n",
              "      <td>Noise_3</td>\n",
              "      <td>-0.240009</td>\n",
              "      <td>-0.240009</td>\n",
              "      <td>-0.239462</td>\n",
              "      <td>-0.232187</td>\n",
              "    </tr>\n",
              "    <tr>\n",
              "      <th>16</th>\n",
              "      <td>Noise_4</td>\n",
              "      <td>0.377309</td>\n",
              "      <td>0.377309</td>\n",
              "      <td>0.376381</td>\n",
              "      <td>0.361962</td>\n",
              "    </tr>\n",
              "    <tr>\n",
              "      <th>17</th>\n",
              "      <td>Noise_5</td>\n",
              "      <td>-0.267670</td>\n",
              "      <td>-0.267670</td>\n",
              "      <td>-0.267842</td>\n",
              "      <td>-0.269082</td>\n",
              "    </tr>\n",
              "  </tbody>\n",
              "</table>\n",
              "</div>"
            ],
            "text/plain": [
              "   Feature Name  Alpha = 0.000000  ...  Alpha = 0.500000  Alpha = 10.000000\n",
              "0          CRIM         -0.934291  ...         -0.930155          -0.866033\n",
              "1            ZN          1.099370  ...          1.091648           0.971323\n",
              "2         INDUS          0.187960  ...          0.175328          -0.004708\n",
              "3          CHAS          0.688480  ...          0.690251           0.715167\n",
              "4           NOX         -2.030390  ...         -2.016654          -1.789995\n",
              "5            RM          2.722557  ...          2.726750           2.788054\n",
              "6           AGE          0.017474  ...          0.014302          -0.033775\n",
              "7           DIS         -3.061854  ...         -3.048852          -2.820647\n",
              "8           RAD          2.692069  ...          2.655150           2.112921\n",
              "9           TAX         -2.182848  ...         -2.147593          -1.647886\n",
              "10      PTRATIO         -2.027875  ...         -2.023852          -1.957231\n",
              "11            B          0.839169  ...          0.838958           0.834583\n",
              "12        LSTAT         -3.736542  ...         -3.730012          -3.616869\n",
              "13      Noise_1         -0.108605  ...         -0.108659          -0.106167\n",
              "14      Noise_2          0.256369  ...          0.256017           0.250587\n",
              "15      Noise_3         -0.240009  ...         -0.239462          -0.232187\n",
              "16      Noise_4          0.377309  ...          0.376381           0.361962\n",
              "17      Noise_5         -0.267670  ...         -0.267842          -0.269082\n",
              "\n",
              "[18 rows x 5 columns]"
            ]
          },
          "metadata": {
            "tags": []
          },
          "execution_count": 66
        }
      ]
    },
    {
      "cell_type": "markdown",
      "metadata": {
        "id": "wf8-HJNQztXz"
      },
      "source": [
        "#### As we can see ridge applies a lower penalty on values which could explain the higher predictive capacity of the model since it places bigger strenghts on most features compared to the lassso regression."
      ]
    },
    {
      "cell_type": "markdown",
      "metadata": {
        "id": "htviX3D9P5eS"
      },
      "source": [
        "In practice, we will not manually look for the best alpha coefficient. Both in Lasso and ridge regression, the alpha is a hyperparameter. Therefore, we will find the best one via crossvalidation. Fortunately, sklearn has a function that performs CV to find the optimal alpha automatically. "
      ]
    },
    {
      "cell_type": "code",
      "metadata": {
        "id": "uRFc3rLAP5eT",
        "colab": {
          "base_uri": "https://localhost:8080/"
        },
        "outputId": "32e689d7-9301-4878-ee1b-667f18c5e849"
      },
      "source": [
        "from sklearn.linear_model import LassoCV\n",
        "\n",
        "reg = LassoCV(max_iter = 5000, cv = 20, normalize=True).fit(X_train, y_train)\n",
        "reg.alpha_"
      ],
      "execution_count": null,
      "outputs": [
        {
          "output_type": "execute_result",
          "data": {
            "text/plain": [
              "0.003571182456192666"
            ]
          },
          "metadata": {
            "tags": []
          },
          "execution_count": 67
        }
      ]
    },
    {
      "cell_type": "code",
      "metadata": {
        "id": "B9iMJpLBP5eT"
      },
      "source": [
        ""
      ],
      "execution_count": null,
      "outputs": []
    }
  ]
}